{
 "cells": [
  {
   "cell_type": "markdown",
   "id": "a4674e7d-ecef-49b6-8ad5-dc791b9d0aa1",
   "metadata": {},
   "source": [
    "### Binary Encoding :\n",
    "  is a technique used to encode categorical data into binary numbers. It's particularly useful for high-cardinality categorical variables (variables with many unique categories) because it efficiently reduces the dimensionality of the encoded data compared to one-hot encoding."
   ]
  },
  {
   "cell_type": "markdown",
   "id": "71c1db29-6604-4c5e-9a89-b586df2504ed",
   "metadata": {},
   "source": [
    "### How Binary Encoding Works:\n",
    "1 Convert Category to Numerical Representation: Each category is assigned a unique integer value.\n",
    "\n",
    "2 Convert Integer to Binary: The integer representation is then converted into its binary equivalent.\n",
    "\n",
    "3 Split Binary Digits into Columns: Each binary digit becomes a separate column in the encoded dataset."
   ]
  },
  {
   "cell_type": "code",
   "execution_count": 10,
   "id": "ca04658e-fb42-4fc5-a455-aee9f9ccfc59",
   "metadata": {},
   "outputs": [],
   "source": [
    "# first install category_encoders using \" !pip install category_encoders\""
   ]
  },
  {
   "cell_type": "code",
   "execution_count": 8,
   "id": "bff44192-beed-4a60-be1b-2ce401d861b5",
   "metadata": {},
   "outputs": [],
   "source": [
    "import pandas as pd\n",
    "import numpy as np\n",
    "from category_encoders import BinaryEncoder"
   ]
  },
  {
   "cell_type": "code",
   "execution_count": 12,
   "id": "4d2b18c8-9863-4f71-bdb7-9842e4edd9d0",
   "metadata": {},
   "outputs": [
    {
     "data": {
      "text/html": [
       "<div>\n",
       "<style scoped>\n",
       "    .dataframe tbody tr th:only-of-type {\n",
       "        vertical-align: middle;\n",
       "    }\n",
       "\n",
       "    .dataframe tbody tr th {\n",
       "        vertical-align: top;\n",
       "    }\n",
       "\n",
       "    .dataframe thead th {\n",
       "        text-align: right;\n",
       "    }\n",
       "</style>\n",
       "<table border=\"1\" class=\"dataframe\">\n",
       "  <thead>\n",
       "    <tr style=\"text-align: right;\">\n",
       "      <th></th>\n",
       "      <th>City</th>\n",
       "    </tr>\n",
       "  </thead>\n",
       "  <tbody>\n",
       "    <tr>\n",
       "      <th>0</th>\n",
       "      <td>New York</td>\n",
       "    </tr>\n",
       "    <tr>\n",
       "      <th>1</th>\n",
       "      <td>San Francisco</td>\n",
       "    </tr>\n",
       "    <tr>\n",
       "      <th>2</th>\n",
       "      <td>Los Angeles</td>\n",
       "    </tr>\n",
       "    <tr>\n",
       "      <th>3</th>\n",
       "      <td>Chicago</td>\n",
       "    </tr>\n",
       "    <tr>\n",
       "      <th>4</th>\n",
       "      <td>Houston</td>\n",
       "    </tr>\n",
       "  </tbody>\n",
       "</table>\n",
       "</div>"
      ],
      "text/plain": [
       "            City\n",
       "0       New York\n",
       "1  San Francisco\n",
       "2    Los Angeles\n",
       "3        Chicago\n",
       "4        Houston"
      ]
     },
     "execution_count": 12,
     "metadata": {},
     "output_type": "execute_result"
    }
   ],
   "source": [
    "data = {'City': ['New York', 'San Francisco', 'Los Angeles', 'Chicago', 'Houston']}\n",
    "df=pd.DataFrame(data)\n",
    "df"
   ]
  },
  {
   "cell_type": "code",
   "execution_count": 14,
   "id": "0bc3528a-0554-4f26-8977-ce824ec16dc7",
   "metadata": {},
   "outputs": [
    {
     "data": {
      "text/html": [
       "<div>\n",
       "<style scoped>\n",
       "    .dataframe tbody tr th:only-of-type {\n",
       "        vertical-align: middle;\n",
       "    }\n",
       "\n",
       "    .dataframe tbody tr th {\n",
       "        vertical-align: top;\n",
       "    }\n",
       "\n",
       "    .dataframe thead th {\n",
       "        text-align: right;\n",
       "    }\n",
       "</style>\n",
       "<table border=\"1\" class=\"dataframe\">\n",
       "  <thead>\n",
       "    <tr style=\"text-align: right;\">\n",
       "      <th></th>\n",
       "      <th>City</th>\n",
       "      <th>City_0</th>\n",
       "      <th>City_1</th>\n",
       "      <th>City_2</th>\n",
       "    </tr>\n",
       "  </thead>\n",
       "  <tbody>\n",
       "    <tr>\n",
       "      <th>0</th>\n",
       "      <td>New York</td>\n",
       "      <td>0</td>\n",
       "      <td>0</td>\n",
       "      <td>1</td>\n",
       "    </tr>\n",
       "    <tr>\n",
       "      <th>1</th>\n",
       "      <td>San Francisco</td>\n",
       "      <td>0</td>\n",
       "      <td>1</td>\n",
       "      <td>0</td>\n",
       "    </tr>\n",
       "    <tr>\n",
       "      <th>2</th>\n",
       "      <td>Los Angeles</td>\n",
       "      <td>0</td>\n",
       "      <td>1</td>\n",
       "      <td>1</td>\n",
       "    </tr>\n",
       "    <tr>\n",
       "      <th>3</th>\n",
       "      <td>Chicago</td>\n",
       "      <td>1</td>\n",
       "      <td>0</td>\n",
       "      <td>0</td>\n",
       "    </tr>\n",
       "    <tr>\n",
       "      <th>4</th>\n",
       "      <td>Houston</td>\n",
       "      <td>1</td>\n",
       "      <td>0</td>\n",
       "      <td>1</td>\n",
       "    </tr>\n",
       "  </tbody>\n",
       "</table>\n",
       "</div>"
      ],
      "text/plain": [
       "            City  City_0  City_1  City_2\n",
       "0       New York       0       0       1\n",
       "1  San Francisco       0       1       0\n",
       "2    Los Angeles       0       1       1\n",
       "3        Chicago       1       0       0\n",
       "4        Houston       1       0       1"
      ]
     },
     "execution_count": 14,
     "metadata": {},
     "output_type": "execute_result"
    }
   ],
   "source": [
    "encoder=BinaryEncoder(df['City'])\n",
    "encoded_df=encoder.fit_transform(df)\n",
    "df_encoded=pd.concat([df,encoded_df],axis=1)\n",
    "df_encoded"
   ]
  },
  {
   "cell_type": "markdown",
   "id": "52d8a97d-2b57-47a8-b540-9ce19defdef8",
   "metadata": {},
   "source": [
    "### When to Use Binary Encoding:\n",
    "1 High-cardinality categorical variables (e.g., Zip Codes, City Names).\n",
    "2 When reducing memory usage and avoiding high-dimensional datasets.\n",
    "3 When you need a balance between preserving ordinal relationships and efficient encoding."
   ]
  },
  {
   "cell_type": "raw",
   "id": "8c3760b4-fa5e-4397-9cb9-3065d38ecb3a",
   "metadata": {},
   "source": [
    "Binary encoding is not directly supported in scikit-learn (as it is in the category_encoders library), but you can manually implement it using pandas or other methods. Below is an example of how you can perform binary encoding in Python using a custom approach with scikit-learn utilities. "
   ]
  },
  {
   "cell_type": "code",
   "execution_count": 18,
   "id": "63cfd9d7-60de-4e29-b618-614dc1c30b1e",
   "metadata": {},
   "outputs": [
    {
     "name": "stdout",
     "output_type": "stream",
     "text": [
      "Original Data:\n",
      "  Category\n",
      "0        A\n",
      "1        B\n",
      "2        C\n",
      "3        A\n",
      "4        B\n",
      "5        C\n",
      "6        D\n",
      "\n",
      "Binary Encoded Data:\n",
      "  Category  Category_Encoded  Binary_1  Binary_2  Binary_3\n",
      "0        A                 0         0         0         0\n",
      "1        B                 1         0         0         1\n",
      "2        C                 2         0         1         0\n",
      "3        A                 0         0         0         0\n",
      "4        B                 1         0         0         1\n",
      "5        C                 2         0         1         0\n",
      "6        D                 3         0         1         1\n"
     ]
    }
   ],
   "source": [
    "import pandas as pd\n",
    "import numpy as np\n",
    "from sklearn.preprocessing import LabelEncoder\n",
    "\n",
    "data = pd.DataFrame({\n",
    "    'Category': ['A', 'B', 'C', 'A', 'B', 'C', 'D']\n",
    "})\n",
    "\n",
    "print(\"Original Data:\")\n",
    "print(data)\n",
    "\n",
    "# Step 1: Use LabelEncoder to convert categories into integers\n",
    "label_encoder = LabelEncoder()\n",
    "data['Category_Encoded'] = label_encoder.fit_transform(data['Category'])\n",
    "\n",
    "# Step 2: Convert integers into binary format and pad to ensure equal length\n",
    "binary_encoded = data['Category_Encoded'].apply(lambda x: format(x, '03b'))  # 3 bits for up to 7 categories\n",
    "\n",
    "# Step 3: Split binary values into separate columns\n",
    "binary_columns = binary_encoded.apply(lambda x: pd.Series(list(x))).astype(int)\n",
    "binary_columns.columns = [f'Binary_{i+1}' for i in range(binary_columns.shape[1])]\n",
    "\n",
    "# Concatenate the binary columns with the original DataFrame\n",
    "data = pd.concat([data, binary_columns], axis=1)\n",
    "\n",
    "print(\"\\nBinary Encoded Data:\")\n",
    "print(data)\n"
   ]
  },
  {
   "cell_type": "markdown",
   "id": "9b83e4f3-2853-4948-8b29-4747c5804994",
   "metadata": {},
   "source": [
    "## Example 3"
   ]
  },
  {
   "cell_type": "code",
   "execution_count": 35,
   "id": "a4bd14f1-9176-4598-9ad5-13e23236e590",
   "metadata": {},
   "outputs": [
    {
     "name": "stdout",
     "output_type": "stream",
     "text": [
      "Sample Data:\n",
      "  Product_ID  Price  Quantity  Purchase_Status\n",
      "0         P1    853        11                1\n",
      "1         P2    603        16                0\n",
      "2         P3    490         7                1\n",
      "3         P4    566        17                1\n",
      "4         P5    898         9                1\n"
     ]
    }
   ],
   "source": [
    "import pandas as pd\n",
    "import numpy as np\n",
    "from sklearn.model_selection import train_test_split\n",
    "from sklearn.ensemble import RandomForestClassifier\n",
    "from sklearn.metrics import classification_report\n",
    "from category_encoders import BinaryEncoder\n",
    "\n",
    "\n",
    "data = pd.DataFrame({\n",
    "    'Product_ID': [f'P{i}' for i in range(1, 101)],  # 100 unique products\n",
    "    'Price': np.random.randint(10, 1000, 100),\n",
    "    'Quantity': np.random.randint(1, 20, 100),\n",
    "    'Purchase_Status': np.random.randint(0, 2, 100)  # Target variable (0 or 1)\n",
    "})\n",
    "\n",
    "print(\"Sample Data:\")\n",
    "print(data.head())\n"
   ]
  },
  {
   "cell_type": "code",
   "execution_count": 41,
   "id": "61844b35-6ca7-42d9-91e5-70e4773d1b5a",
   "metadata": {},
   "outputs": [],
   "source": [
    "X = data[['Product_ID', 'Price', 'Quantity']]\n",
    "y = data['Purchase_Status']\n",
    "X_train, X_test, y_train, y_test = train_test_split(X, y, test_size=0.2, random_state=42)\n",
    "\n",
    "\n"
   ]
  },
  {
   "cell_type": "code",
   "execution_count": 43,
   "id": "6fdb0c96-6586-46ee-8b34-1e7e7a39980e",
   "metadata": {},
   "outputs": [
    {
     "name": "stdout",
     "output_type": "stream",
     "text": [
      "\n",
      "Binary Encoded Feature Example (Train Set):\n",
      "    Product_ID_0  Product_ID_1  Product_ID_2  Product_ID_3  Product_ID_4  \\\n",
      "55             0             0             0             0             0   \n",
      "88             0             0             0             0             0   \n",
      "26             0             0             0             0             0   \n",
      "42             0             0             0             0             1   \n",
      "69             0             0             0             0             1   \n",
      "\n",
      "    Product_ID_5  Product_ID_6  Price  Quantity  \n",
      "55             0             1    188        19  \n",
      "88             1             0    667         1  \n",
      "26             1             1    393         9  \n",
      "42             0             0    330        19  \n",
      "69             0             1    844        17  \n"
     ]
    }
   ],
   "source": [
    "encoder = BinaryEncoder(cols=['Product_ID'])\n",
    "X_train_encoded = encoder.fit_transform(X_train)\n",
    "X_test_encoded = encoder.transform(X_test)\n",
    "print(\"\\nBinary Encoded Feature Example (Train Set):\")\n",
    "print(X_train_encoded.head())"
   ]
  },
  {
   "cell_type": "code",
   "execution_count": 31,
   "id": "60878ab2-e0be-4718-a97b-56471f27876d",
   "metadata": {},
   "outputs": [],
   "source": [
    "model = RandomForestClassifier(random_state=42)\n",
    "model.fit(X_train_encoded, y_train)\n",
    "y_pred = model.predict(X_test_encoded)\n"
   ]
  },
  {
   "cell_type": "code",
   "execution_count": 33,
   "id": "caa506e9-900c-438c-93d5-5599f0f6dead",
   "metadata": {},
   "outputs": [
    {
     "name": "stdout",
     "output_type": "stream",
     "text": [
      "\n",
      "Classification Report:\n",
      "              precision    recall  f1-score   support\n",
      "\n",
      "           0       0.22      0.25      0.24         8\n",
      "           1       0.45      0.42      0.43        12\n",
      "\n",
      "    accuracy                           0.35        20\n",
      "   macro avg       0.34      0.33      0.34        20\n",
      "weighted avg       0.36      0.35      0.35        20\n",
      "\n"
     ]
    }
   ],
   "source": [
    "print(\"\\nClassification Report:\")\n",
    "print(classification_report(y_test, y_pred))\n"
   ]
  },
  {
   "cell_type": "code",
   "execution_count": null,
   "id": "1bc454b0-9267-4456-ad8d-d47e08652947",
   "metadata": {},
   "outputs": [],
   "source": []
  }
 ],
 "metadata": {
  "kernelspec": {
   "display_name": "Python 3 (ipykernel)",
   "language": "python",
   "name": "python3"
  },
  "language_info": {
   "codemirror_mode": {
    "name": "ipython",
    "version": 3
   },
   "file_extension": ".py",
   "mimetype": "text/x-python",
   "name": "python",
   "nbconvert_exporter": "python",
   "pygments_lexer": "ipython3",
   "version": "3.12.4"
  }
 },
 "nbformat": 4,
 "nbformat_minor": 5
}
