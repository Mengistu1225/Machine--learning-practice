{
 "cells": [
  {
   "cell_type": "markdown",
   "id": "aae32f86-9af7-4215-bfe6-55faec45475d",
   "metadata": {},
   "source": [
    "## onehotencoder:\n",
    "OneHotEncoder is a preprocessing technique used in machine learning to convert\n",
    "categorical data into a binary (0 or 1) matrix representation. \n",
    "It is especially useful for algorithms that cannot handle categorical variables directly,\n",
    "like regression models or distance-based algorithms."
   ]
  },
  {
   "cell_type": "code",
   "execution_count": 4,
   "id": "ffd692ff-32b4-4cdc-ac88-1caf3cc4c5e3",
   "metadata": {},
   "outputs": [],
   "source": [
    "import pandas as pd\n",
    "from sklearn.preprocessing import OneHotEncoder"
   ]
  },
  {
   "cell_type": "markdown",
   "id": "35e04761-0dd9-4909-ac59-f18e5e565420",
   "metadata": {},
   "source": [
    "### Perform One-Hot Encoding in Pandas"
   ]
  },
  {
   "cell_type": "code",
   "execution_count": null,
   "id": "ec2ea412-18fb-4591-91e8-04b858e971cc",
   "metadata": {},
   "outputs": [],
   "source": []
  },
  {
   "cell_type": "code",
   "execution_count": 6,
   "id": "b41db03b-752f-45fe-8d90-622e94b3fb27",
   "metadata": {},
   "outputs": [
    {
     "name": "stdout",
     "output_type": "stream",
     "text": [
      "   Color Size\n",
      "0    Red    S\n",
      "1  Green    M\n",
      "2   Blue    L\n",
      "3    Red   XL\n"
     ]
    }
   ],
   "source": [
    "data = pd.DataFrame({\n",
    "    'Color': ['Red', 'Green', 'Blue', 'Red'],\n",
    "    'Size': ['S', 'M', 'L', 'XL']\n",
    "})\n",
    "print(data)\n"
   ]
  },
  {
   "cell_type": "code",
   "execution_count": 57,
   "id": "a9b09ed1-334b-40fb-88bc-1d0cd4cd4c83",
   "metadata": {},
   "outputs": [
    {
     "name": "stdout",
     "output_type": "stream",
     "text": [
      "  Size  Color_Blue  Color_Green  Color_Red\n",
      "0    S       False        False       True\n",
      "1    M       False         True      False\n",
      "2    L        True        False      False\n",
      "3   XL       False        False       True\n"
     ]
    }
   ],
   "source": [
    "encoded_data = pd.get_dummies(data, columns=['Color'], prefix='Color', drop_first=False)\n",
    "print(encoded_data)\n"
   ]
  },
  {
   "cell_type": "code",
   "execution_count": 59,
   "id": "073913ee-bcbc-41dd-b469-299dcf71cb28",
   "metadata": {},
   "outputs": [
    {
     "name": "stdout",
     "output_type": "stream",
     "text": [
      "   Color_Blue  Color_Green  Color_Red  Size_L  Size_M  Size_S  Size_XL\n",
      "0       False        False       True   False   False    True    False\n",
      "1       False         True      False   False    True   False    False\n",
      "2        True        False      False    True   False   False    False\n",
      "3       False        False       True   False   False   False     True\n"
     ]
    }
   ],
   "source": [
    "encoded_data = pd.get_dummies(data, columns=['Color', 'Size'], drop_first=False)\n",
    "print(encoded_data)"
   ]
  },
  {
   "cell_type": "code",
   "execution_count": 61,
   "id": "8f2d6e66-d165-48a3-a30f-0ab74194600f",
   "metadata": {},
   "outputs": [
    {
     "name": "stdout",
     "output_type": "stream",
     "text": [
      "  Size  Color_Green  Color_Red\n",
      "0    S        False       True\n",
      "1    M         True      False\n",
      "2    L        False      False\n",
      "3   XL        False       True\n"
     ]
    }
   ],
   "source": [
    "encoded_data = pd.get_dummies(data, columns=['Color'], drop_first=True)\n",
    "print(encoded_data)\n"
   ]
  },
  {
   "cell_type": "markdown",
   "id": "f713be81-a981-4375-900a-05237a5ec051",
   "metadata": {},
   "source": [
    "### Perform One-Hot Encoding in sklearn"
   ]
  },
  {
   "cell_type": "code",
   "execution_count": 46,
   "id": "5f3ed906-8c15-4de8-850d-b51140289b14",
   "metadata": {},
   "outputs": [],
   "source": [
    "encoder=OneHotEncoder(sparse_output=False)\n",
    "encoded_data=encoder.fit_transform(data[['Color']])"
   ]
  },
  {
   "cell_type": "code",
   "execution_count": 48,
   "id": "1a28b882-01a2-48b9-b564-177d59c55c45",
   "metadata": {},
   "outputs": [
    {
     "name": "stdout",
     "output_type": "stream",
     "text": [
      "[[0. 0. 1.]\n",
      " [0. 1. 0.]\n",
      " [1. 0. 0.]\n",
      " [0. 0. 1.]]\n"
     ]
    }
   ],
   "source": [
    "print(encoded_data)"
   ]
  },
  {
   "cell_type": "markdown",
   "id": "ed7012d2-79f0-4df1-bc40-fa3943940359",
   "metadata": {},
   "source": [
    "### Add Encoded Data Back to DataFrame"
   ]
  },
  {
   "cell_type": "code",
   "execution_count": 51,
   "id": "dfc4862a-078d-4d49-b32e-b6b2399718d9",
   "metadata": {},
   "outputs": [
    {
     "name": "stdout",
     "output_type": "stream",
     "text": [
      "  Size  Color_Blue  Color_Green  Color_Red\n",
      "0    S         0.0          0.0        1.0\n",
      "1    M         0.0          1.0        0.0\n",
      "2    L         1.0          0.0        0.0\n",
      "3   XL         0.0          0.0        1.0\n"
     ]
    }
   ],
   "source": [
    "encoded_column=encoder.get_feature_names_out(['Color'])\n",
    "encoded_df=pd.DataFrame(data=encoded_data,columns=encoded_column)\n",
    "final_data = pd.concat([data, encoded_df], axis=1).drop(columns=['Color'])\n",
    "print(final_data)"
   ]
  },
  {
   "cell_type": "code",
   "execution_count": null,
   "id": "37f8044a-7eee-49d1-98f2-0f83751e268d",
   "metadata": {},
   "outputs": [],
   "source": []
  }
 ],
 "metadata": {
  "kernelspec": {
   "display_name": "Python 3 (ipykernel)",
   "language": "python",
   "name": "python3"
  },
  "language_info": {
   "codemirror_mode": {
    "name": "ipython",
    "version": 3
   },
   "file_extension": ".py",
   "mimetype": "text/x-python",
   "name": "python",
   "nbconvert_exporter": "python",
   "pygments_lexer": "ipython3",
   "version": "3.12.4"
  }
 },
 "nbformat": 4,
 "nbformat_minor": 5
}
