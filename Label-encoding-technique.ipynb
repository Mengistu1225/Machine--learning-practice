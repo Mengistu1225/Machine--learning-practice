{
 "cells": [
  {
   "cell_type": "markdown",
   "id": "39383e7c-626b-44a2-b4b9-6c429f5c3e03",
   "metadata": {},
   "source": [
    "## Label Encoding :\n",
    "  is a technique in machine learning used to convert categorical text data into numerical data. It is particularly useful when your data contains categorical variables that need to be converted into numerical values for machine learning algorithms to process."
   ]
  },
  {
   "cell_type": "markdown",
   "id": "2dcdd61b-7ed9-42bf-8217-043df391bdea",
   "metadata": {},
   "source": [
    "# When to Use Label Encoding\n",
    "#### Label Encoding works best when:\n",
    "\n",
    "1 The categorical variable is ordinal (has an inherent order, e.g., 'Low', 'Medium', 'High').\n",
    "2 The encoded numerical values won’t mislead the machine learning model into assuming a numeric relationship between the categories."
   ]
  },
  {
   "cell_type": "code",
   "execution_count": 6,
   "id": "49280430-3635-43d0-ba54-d1e10e6f26c1",
   "metadata": {},
   "outputs": [],
   "source": [
    "import pandas as pd\n",
    "import numpy as np\n",
    "from sklearn.preprocessing import LabelEncoder"
   ]
  },
  {
   "cell_type": "code",
   "execution_count": 20,
   "id": "f8e122fa-39a1-40f7-b9c2-8ccb5bfdf523",
   "metadata": {},
   "outputs": [],
   "source": [
    "data = pd.DataFrame({\n",
    "    'Color': ['Red', 'Green', 'Blue', 'Green'],\n",
    "    'Size': ['Small', 'Medium', 'Large', 'Medium']\n",
    "})\n"
   ]
  },
  {
   "cell_type": "code",
   "execution_count": 22,
   "id": "d24f3b5e-e632-4d1c-a5c2-ff85e23374b4",
   "metadata": {},
   "outputs": [
    {
     "data": {
      "text/html": [
       "<div>\n",
       "<style scoped>\n",
       "    .dataframe tbody tr th:only-of-type {\n",
       "        vertical-align: middle;\n",
       "    }\n",
       "\n",
       "    .dataframe tbody tr th {\n",
       "        vertical-align: top;\n",
       "    }\n",
       "\n",
       "    .dataframe thead th {\n",
       "        text-align: right;\n",
       "    }\n",
       "</style>\n",
       "<table border=\"1\" class=\"dataframe\">\n",
       "  <thead>\n",
       "    <tr style=\"text-align: right;\">\n",
       "      <th></th>\n",
       "      <th>Color</th>\n",
       "      <th>Size</th>\n",
       "      <th>size_encoded</th>\n",
       "    </tr>\n",
       "  </thead>\n",
       "  <tbody>\n",
       "    <tr>\n",
       "      <th>0</th>\n",
       "      <td>Red</td>\n",
       "      <td>Small</td>\n",
       "      <td>2</td>\n",
       "    </tr>\n",
       "    <tr>\n",
       "      <th>1</th>\n",
       "      <td>Green</td>\n",
       "      <td>Medium</td>\n",
       "      <td>1</td>\n",
       "    </tr>\n",
       "    <tr>\n",
       "      <th>2</th>\n",
       "      <td>Blue</td>\n",
       "      <td>Large</td>\n",
       "      <td>0</td>\n",
       "    </tr>\n",
       "    <tr>\n",
       "      <th>3</th>\n",
       "      <td>Green</td>\n",
       "      <td>Medium</td>\n",
       "      <td>1</td>\n",
       "    </tr>\n",
       "  </tbody>\n",
       "</table>\n",
       "</div>"
      ],
      "text/plain": [
       "   Color    Size  size_encoded\n",
       "0    Red   Small             2\n",
       "1  Green  Medium             1\n",
       "2   Blue   Large             0\n",
       "3  Green  Medium             1"
      ]
     },
     "execution_count": 22,
     "metadata": {},
     "output_type": "execute_result"
    }
   ],
   "source": [
    "label_encoder=LabelEncoder()\n",
    "data['size_encoded']=label_encoder.fit_transform(data['Size'])\n",
    "data"
   ]
  },
  {
   "cell_type": "code",
   "execution_count": 26,
   "id": "472e9a39-0d72-4e55-9d0c-2d9bb949faaa",
   "metadata": {},
   "outputs": [],
   "source": [
    "# N.B  label encoding is lead to mislead when we use with nominal variables so that do't use with nominal data \n",
    "# it use only with ordinal data or variables( we can not use with Color in the above data becuse it is naminal data)"
   ]
  },
  {
   "cell_type": "code",
   "execution_count": 38,
   "id": "102f8274-1146-4eea-94cf-2019ef14163c",
   "metadata": {},
   "outputs": [
    {
     "data": {
      "text/html": [
       "<div>\n",
       "<style scoped>\n",
       "    .dataframe tbody tr th:only-of-type {\n",
       "        vertical-align: middle;\n",
       "    }\n",
       "\n",
       "    .dataframe tbody tr th {\n",
       "        vertical-align: top;\n",
       "    }\n",
       "\n",
       "    .dataframe thead th {\n",
       "        text-align: right;\n",
       "    }\n",
       "</style>\n",
       "<table border=\"1\" class=\"dataframe\">\n",
       "  <thead>\n",
       "    <tr style=\"text-align: right;\">\n",
       "      <th></th>\n",
       "      <th>Customer ID</th>\n",
       "      <th>Gender</th>\n",
       "      <th>Review Sentiment</th>\n",
       "      <th>Membership Level</th>\n",
       "    </tr>\n",
       "  </thead>\n",
       "  <tbody>\n",
       "    <tr>\n",
       "      <th>0</th>\n",
       "      <td>001</td>\n",
       "      <td>Male</td>\n",
       "      <td>Positive</td>\n",
       "      <td>Gold</td>\n",
       "    </tr>\n",
       "    <tr>\n",
       "      <th>1</th>\n",
       "      <td>002</td>\n",
       "      <td>Female</td>\n",
       "      <td>Negative</td>\n",
       "      <td>Silver</td>\n",
       "    </tr>\n",
       "    <tr>\n",
       "      <th>2</th>\n",
       "      <td>003</td>\n",
       "      <td>Male</td>\n",
       "      <td>Neutral</td>\n",
       "      <td>Platinum</td>\n",
       "    </tr>\n",
       "    <tr>\n",
       "      <th>3</th>\n",
       "      <td>004</td>\n",
       "      <td>Female</td>\n",
       "      <td>Positive</td>\n",
       "      <td>Gold</td>\n",
       "    </tr>\n",
       "    <tr>\n",
       "      <th>4</th>\n",
       "      <td>005</td>\n",
       "      <td>Male</td>\n",
       "      <td>Negative</td>\n",
       "      <td>Silver</td>\n",
       "    </tr>\n",
       "  </tbody>\n",
       "</table>\n",
       "</div>"
      ],
      "text/plain": [
       "  Customer ID  Gender Review Sentiment Membership Level\n",
       "0         001    Male         Positive             Gold\n",
       "1         002  Female         Negative           Silver\n",
       "2         003    Male          Neutral         Platinum\n",
       "3         004  Female         Positive             Gold\n",
       "4         005    Male         Negative           Silver"
      ]
     },
     "execution_count": 38,
     "metadata": {},
     "output_type": "execute_result"
    }
   ],
   "source": [
    "df= pd.DataFrame({\n",
    "    'Customer ID': ['001', '002', '003', '004', '005'],\n",
    "    'Gender': ['Male', 'Female', 'Male', 'Female', 'Male'],\n",
    "    'Review Sentiment': ['Positive', 'Negative', 'Neutral', 'Positive', 'Negative'],\n",
    "    'Membership Level': ['Gold', 'Silver', 'Platinum', 'Gold', 'Silver']\n",
    "})\n",
    "data"
   ]
  },
  {
   "cell_type": "code",
   "execution_count": 40,
   "id": "2bd16878-c38f-46f7-916c-0304799ff603",
   "metadata": {},
   "outputs": [
    {
     "data": {
      "text/html": [
       "<div>\n",
       "<style scoped>\n",
       "    .dataframe tbody tr th:only-of-type {\n",
       "        vertical-align: middle;\n",
       "    }\n",
       "\n",
       "    .dataframe tbody tr th {\n",
       "        vertical-align: top;\n",
       "    }\n",
       "\n",
       "    .dataframe thead th {\n",
       "        text-align: right;\n",
       "    }\n",
       "</style>\n",
       "<table border=\"1\" class=\"dataframe\">\n",
       "  <thead>\n",
       "    <tr style=\"text-align: right;\">\n",
       "      <th></th>\n",
       "      <th>Customer ID</th>\n",
       "      <th>Gender</th>\n",
       "      <th>Review Sentiment</th>\n",
       "      <th>Membership Level</th>\n",
       "      <th>Review Sentiment_encoded</th>\n",
       "      <th>Membership level_encoded</th>\n",
       "    </tr>\n",
       "  </thead>\n",
       "  <tbody>\n",
       "    <tr>\n",
       "      <th>0</th>\n",
       "      <td>001</td>\n",
       "      <td>Male</td>\n",
       "      <td>Positive</td>\n",
       "      <td>Gold</td>\n",
       "      <td>2</td>\n",
       "      <td>0</td>\n",
       "    </tr>\n",
       "    <tr>\n",
       "      <th>1</th>\n",
       "      <td>002</td>\n",
       "      <td>Female</td>\n",
       "      <td>Negative</td>\n",
       "      <td>Silver</td>\n",
       "      <td>0</td>\n",
       "      <td>2</td>\n",
       "    </tr>\n",
       "    <tr>\n",
       "      <th>2</th>\n",
       "      <td>003</td>\n",
       "      <td>Male</td>\n",
       "      <td>Neutral</td>\n",
       "      <td>Platinum</td>\n",
       "      <td>1</td>\n",
       "      <td>1</td>\n",
       "    </tr>\n",
       "    <tr>\n",
       "      <th>3</th>\n",
       "      <td>004</td>\n",
       "      <td>Female</td>\n",
       "      <td>Positive</td>\n",
       "      <td>Gold</td>\n",
       "      <td>2</td>\n",
       "      <td>0</td>\n",
       "    </tr>\n",
       "    <tr>\n",
       "      <th>4</th>\n",
       "      <td>005</td>\n",
       "      <td>Male</td>\n",
       "      <td>Negative</td>\n",
       "      <td>Silver</td>\n",
       "      <td>0</td>\n",
       "      <td>2</td>\n",
       "    </tr>\n",
       "  </tbody>\n",
       "</table>\n",
       "</div>"
      ],
      "text/plain": [
       "  Customer ID  Gender Review Sentiment Membership Level  \\\n",
       "0         001    Male         Positive             Gold   \n",
       "1         002  Female         Negative           Silver   \n",
       "2         003    Male          Neutral         Platinum   \n",
       "3         004  Female         Positive             Gold   \n",
       "4         005    Male         Negative           Silver   \n",
       "\n",
       "   Review Sentiment_encoded  Membership level_encoded  \n",
       "0                         2                         0  \n",
       "1                         0                         2  \n",
       "2                         1                         1  \n",
       "3                         2                         0  \n",
       "4                         0                         2  "
      ]
     },
     "execution_count": 40,
     "metadata": {},
     "output_type": "execute_result"
    }
   ],
   "source": [
    "le_encoder=LabelEncoder()\n",
    "df['Review Sentiment_encoded']=le_encoder.fit_transform(df['Review Sentiment'])\n",
    "df['Membership level_encoded']=le_encoder.fit_transform(df['Membership Level'])\n",
    "df"
   ]
  },
  {
   "cell_type": "code",
   "execution_count": null,
   "id": "6fcda9e7-97ff-4006-b9d9-27fd8fea77eb",
   "metadata": {},
   "outputs": [],
   "source": [
    "membership_mapping = {'Bronze': 0, 'Silver': 1, 'Gold': 2, 'Platinum': 3}\n",
    "df['Membership_encoded'] = data['Membership Level'].map(membership_mapping)\n",
    "print(data)\n"
   ]
  },
  {
   "cell_type": "code",
   "execution_count": null,
   "id": "26e8fa89-7ae8-4441-8c40-5e38f9b42f9d",
   "metadata": {},
   "outputs": [],
   "source": []
  },
  {
   "cell_type": "code",
   "execution_count": null,
   "id": "6b9d2add-1c92-4fdc-9daf-e8191de41972",
   "metadata": {},
   "outputs": [],
   "source": []
  },
  {
   "cell_type": "code",
   "execution_count": null,
   "id": "d2d999a8-38b2-4d00-814d-627da1463646",
   "metadata": {},
   "outputs": [],
   "source": []
  }
 ],
 "metadata": {
  "kernelspec": {
   "display_name": "Python 3 (ipykernel)",
   "language": "python",
   "name": "python3"
  },
  "language_info": {
   "codemirror_mode": {
    "name": "ipython",
    "version": 3
   },
   "file_extension": ".py",
   "mimetype": "text/x-python",
   "name": "python",
   "nbconvert_exporter": "python",
   "pygments_lexer": "ipython3",
   "version": "3.12.4"
  }
 },
 "nbformat": 4,
 "nbformat_minor": 5
}
