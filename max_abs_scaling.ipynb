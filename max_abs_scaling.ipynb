{
 "cells": [
  {
   "cell_type": "raw",
   "id": "0b738084-2d4c-4aff-aa26-06d9a9fe87a0",
   "metadata": {},
   "source": [
    "=>Max-Abs Scaling :is a normalization technique that scales features to the range[−1,1] by dividing each feature value by the maximum absolute value of that feature. Unlike Min-Max scaling, it preserves sparsity and does not shift or center the data. This is particularly useful for data with positive and negative values and sparse data (i.e., datasets with many zeros)"
   ]
  },
  {
   "cell_type": "markdown",
   "id": "6d339f3d-9d18-431a-a807-e952f2952055",
   "metadata": {},
   "source": [
    "### using numpy"
   ]
  },
  {
   "cell_type": "code",
   "execution_count": 5,
   "id": "33428501-9b1a-4866-84e9-9826820ec727",
   "metadata": {},
   "outputs": [
    {
     "data": {
      "text/html": [
       "<div>\n",
       "<style scoped>\n",
       "    .dataframe tbody tr th:only-of-type {\n",
       "        vertical-align: middle;\n",
       "    }\n",
       "\n",
       "    .dataframe tbody tr th {\n",
       "        vertical-align: top;\n",
       "    }\n",
       "\n",
       "    .dataframe thead th {\n",
       "        text-align: right;\n",
       "    }\n",
       "</style>\n",
       "<table border=\"1\" class=\"dataframe\">\n",
       "  <thead>\n",
       "    <tr style=\"text-align: right;\">\n",
       "      <th></th>\n",
       "      <th>0</th>\n",
       "      <th>1</th>\n",
       "      <th>2</th>\n",
       "    </tr>\n",
       "  </thead>\n",
       "  <tbody>\n",
       "    <tr>\n",
       "      <th>0</th>\n",
       "      <td>0.142857</td>\n",
       "      <td>-0.25</td>\n",
       "      <td>0.333333</td>\n",
       "    </tr>\n",
       "    <tr>\n",
       "      <th>1</th>\n",
       "      <td>0.571429</td>\n",
       "      <td>0.00</td>\n",
       "      <td>-0.666667</td>\n",
       "    </tr>\n",
       "    <tr>\n",
       "      <th>2</th>\n",
       "      <td>-1.000000</td>\n",
       "      <td>1.00</td>\n",
       "      <td>1.000000</td>\n",
       "    </tr>\n",
       "  </tbody>\n",
       "</table>\n",
       "</div>"
      ],
      "text/plain": [
       "          0     1         2\n",
       "0  0.142857 -0.25  0.333333\n",
       "1  0.571429  0.00 -0.666667\n",
       "2 -1.000000  1.00  1.000000"
      ]
     },
     "execution_count": 5,
     "metadata": {},
     "output_type": "execute_result"
    }
   ],
   "source": [
    "import pandas as pd\n",
    "import numpy as np\n",
    "\n",
    "\n",
    "# Sample data\n",
    "data = np.array([[1, -2, 3], \n",
    "                 [4, 0, -6], \n",
    "                 [-7, 8, 9]])\n",
    "\n",
    "# Compute maximum absolute value for each feature\n",
    "max_abs_data=np.max(np.abs(data),axis=0)\n",
    "scaled_data=data/max_abs_data\n",
    "scaled_data\n",
    "scaled_df=pd.DataFrame(scaled_data)\n",
    "scaled_df"
   ]
  },
  {
   "cell_type": "markdown",
   "id": "cc9c9896-5a8a-4ac1-bc31-395624a71db5",
   "metadata": {},
   "source": [
    "### using sklearn library```"
   ]
  },
  {
   "cell_type": "code",
   "execution_count": 19,
   "id": "44a96d46-ca51-4fdc-99ea-b0f2e6b8c61e",
   "metadata": {},
   "outputs": [
    {
     "data": {
      "text/html": [
       "<div>\n",
       "<style scoped>\n",
       "    .dataframe tbody tr th:only-of-type {\n",
       "        vertical-align: middle;\n",
       "    }\n",
       "\n",
       "    .dataframe tbody tr th {\n",
       "        vertical-align: top;\n",
       "    }\n",
       "\n",
       "    .dataframe thead th {\n",
       "        text-align: right;\n",
       "    }\n",
       "</style>\n",
       "<table border=\"1\" class=\"dataframe\">\n",
       "  <thead>\n",
       "    <tr style=\"text-align: right;\">\n",
       "      <th></th>\n",
       "      <th>Feature1</th>\n",
       "      <th>Feature2</th>\n",
       "      <th>Feature3</th>\n",
       "    </tr>\n",
       "  </thead>\n",
       "  <tbody>\n",
       "    <tr>\n",
       "      <th>0</th>\n",
       "      <td>0.142857</td>\n",
       "      <td>-0.25</td>\n",
       "      <td>0.333333</td>\n",
       "    </tr>\n",
       "    <tr>\n",
       "      <th>1</th>\n",
       "      <td>0.571429</td>\n",
       "      <td>0.00</td>\n",
       "      <td>-0.666667</td>\n",
       "    </tr>\n",
       "    <tr>\n",
       "      <th>2</th>\n",
       "      <td>-1.000000</td>\n",
       "      <td>1.00</td>\n",
       "      <td>1.000000</td>\n",
       "    </tr>\n",
       "  </tbody>\n",
       "</table>\n",
       "</div>"
      ],
      "text/plain": [
       "   Feature1  Feature2  Feature3\n",
       "0  0.142857     -0.25  0.333333\n",
       "1  0.571429      0.00 -0.666667\n",
       "2 -1.000000      1.00  1.000000"
      ]
     },
     "execution_count": 19,
     "metadata": {},
     "output_type": "execute_result"
    }
   ],
   "source": [
    "from sklearn.preprocessing import MaxAbsScaler\n",
    "# Sample data\n",
    "data = pd.DataFrame({\n",
    "    'Feature1': [1, 4, -7],\n",
    "    'Feature2': [-2, 0, 8],\n",
    "    'Feature3': [3, -6, 9]\n",
    "})\n",
    "\n",
    "scaler=MaxAbsScaler()\n",
    "scaled_data=scaler.fit_transform(data)\n",
    "\n",
    "\n",
    "scaled_df=pd.DataFrame(scaled_data,columns=['Feature1','Feature2','Feature3'])\n",
    "scaled_df"
   ]
  },
  {
   "cell_type": "code",
   "execution_count": null,
   "id": "d06dce35-f571-4261-8a83-985c1435d7e4",
   "metadata": {},
   "outputs": [],
   "source": []
  }
 ],
 "metadata": {
  "kernelspec": {
   "display_name": "Python 3 (ipykernel)",
   "language": "python",
   "name": "python3"
  },
  "language_info": {
   "codemirror_mode": {
    "name": "ipython",
    "version": 3
   },
   "file_extension": ".py",
   "mimetype": "text/x-python",
   "name": "python",
   "nbconvert_exporter": "python",
   "pygments_lexer": "ipython3",
   "version": "3.12.4"
  }
 },
 "nbformat": 4,
 "nbformat_minor": 5
}
